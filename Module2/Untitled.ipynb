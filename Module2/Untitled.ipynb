{
 "cells": [
  {
   "cell_type": "code",
   "execution_count": 17,
   "id": "283c4a85",
   "metadata": {},
   "outputs": [
    {
     "name": "stdout",
     "output_type": "stream",
     "text": [
      "Kelly Kelly Kelly Kelly Kelly \n",
      "\n",
      "Jessa Jessa Jessa Jessa Jessa \n",
      "\n",
      "Emma Emma Emma Emma Emma \n",
      "\n"
     ]
    }
   ],
   "source": [
    "for i in ('Kelly', 'Jessa', 'Emma'):\n",
    "    for j in range (5):\n",
    "        print (i, end = ' ')\n",
    "    print ('\\n')"
   ]
  },
  {
   "cell_type": "code",
   "execution_count": 15,
   "id": "e9439547",
   "metadata": {},
   "outputs": [
    {
     "name": "stdout",
     "output_type": "stream",
     "text": [
      "2 * 4 =  8\n",
      "2 * 6 =  12\n",
      "4 * 2 =  8\n",
      "4 * 6 =  24\n",
      "6 * 2 =  12\n",
      "6 * 4 =  24\n"
     ]
    }
   ],
   "source": [
    "for i in range(2, 7, 2):\n",
    "    for j in range(2, 7, 2):\n",
    "        if i == j:\n",
    "            continue\n",
    "        print (f\"{i} * {j} = \", i*j)"
   ]
  },
  {
   "cell_type": "code",
   "execution_count": 22,
   "id": "2b9d07c7",
   "metadata": {},
   "outputs": [
    {
     "name": "stdout",
     "output_type": "stream",
     "text": [
      "1\n"
     ]
    }
   ],
   "source": [
    "a = 222\n",
    "a = int(bool(a))\n",
    "# a = int(a)\n",
    "print(a)"
   ]
  },
  {
   "cell_type": "code",
   "execution_count": 28,
   "id": "410ac789",
   "metadata": {},
   "outputs": [],
   "source": [
    "def deling(arg1, arg2):\n",
    "    return arg1 / arg2"
   ]
  },
  {
   "cell_type": "code",
   "execution_count": 30,
   "id": "e9a98f76",
   "metadata": {},
   "outputs": [
    {
     "data": {
      "text/plain": [
       "0.7142857142857143"
      ]
     },
     "execution_count": 30,
     "metadata": {},
     "output_type": "execute_result"
    }
   ],
   "source": [
    "deling(5, 7)"
   ]
  },
  {
   "cell_type": "code",
   "execution_count": 40,
   "id": "d12bd564",
   "metadata": {},
   "outputs": [],
   "source": [
    "import datetime"
   ]
  },
  {
   "cell_type": "code",
   "execution_count": 39,
   "id": "93daca50",
   "metadata": {},
   "outputs": [],
   "source": [
    "datetime?"
   ]
  },
  {
   "cell_type": "code",
   "execution_count": 33,
   "id": "adaef494",
   "metadata": {},
   "outputs": [
    {
     "data": {
      "text/plain": [
       "<function datetime.now(tz=None)>"
      ]
     },
     "execution_count": 33,
     "metadata": {},
     "output_type": "execute_result"
    }
   ],
   "source": [
    "datetime.datetime.now"
   ]
  },
  {
   "cell_type": "code",
   "execution_count": 41,
   "id": "315511b1",
   "metadata": {},
   "outputs": [
    {
     "ename": "TypeError",
     "evalue": "'getset_descriptor' object is not callable",
     "output_type": "error",
     "traceback": [
      "\u001b[1;31m---------------------------------------------------------------------------\u001b[0m",
      "\u001b[1;31mTypeError\u001b[0m                                 Traceback (most recent call last)",
      "Input \u001b[1;32mIn [41]\u001b[0m, in \u001b[0;36m<cell line: 2>\u001b[1;34m()\u001b[0m\n\u001b[0;32m      1\u001b[0m lv_year \u001b[38;5;241m=\u001b[39m \u001b[38;5;241m2000\u001b[39m\n\u001b[1;32m----> 2\u001b[0m lv_year \u001b[38;5;241m=\u001b[39m \u001b[43mdatetime\u001b[49m\u001b[38;5;241;43m.\u001b[39;49m\u001b[43mdatetime\u001b[49m\u001b[38;5;241;43m.\u001b[39;49m\u001b[43myear\u001b[49m\u001b[43m(\u001b[49m\u001b[43m)\u001b[49m\n",
      "\u001b[1;31mTypeError\u001b[0m: 'getset_descriptor' object is not callable"
     ]
    }
   ],
   "source": [
    "lv_year = 2000\n",
    "lv_year = datetime.datetime.year()"
   ]
  },
  {
   "cell_type": "code",
   "execution_count": 42,
   "id": "8b78bb91",
   "metadata": {},
   "outputs": [],
   "source": [
    "now = datetime.datetime.now()"
   ]
  },
  {
   "cell_type": "code",
   "execution_count": 43,
   "id": "5ff989e4",
   "metadata": {},
   "outputs": [
    {
     "data": {
      "text/plain": [
       "datetime.datetime(2022, 10, 18, 22, 2, 29, 995337)"
      ]
     },
     "execution_count": 43,
     "metadata": {},
     "output_type": "execute_result"
    }
   ],
   "source": [
    "now"
   ]
  },
  {
   "cell_type": "code",
   "execution_count": 47,
   "id": "b27e9fdc",
   "metadata": {},
   "outputs": [
    {
     "ename": "TypeError",
     "evalue": "tzinfo argument must be None or of a tzinfo subclass, not type 'list'",
     "output_type": "error",
     "traceback": [
      "\u001b[1;31m---------------------------------------------------------------------------\u001b[0m",
      "\u001b[1;31mTypeError\u001b[0m                                 Traceback (most recent call last)",
      "Input \u001b[1;32mIn [47]\u001b[0m, in \u001b[0;36m<cell line: 1>\u001b[1;34m()\u001b[0m\n\u001b[1;32m----> 1\u001b[0m year \u001b[38;5;241m=\u001b[39m \u001b[43mdatetime\u001b[49m\u001b[38;5;241;43m.\u001b[39;49m\u001b[43mdatetime\u001b[49m\u001b[38;5;241;43m.\u001b[39;49m\u001b[43mnow\u001b[49m\u001b[43m(\u001b[49m\u001b[43m[\u001b[49m\u001b[38;5;241;43m1\u001b[39;49m\u001b[43m]\u001b[49m\u001b[43m)\u001b[49m\n",
      "\u001b[1;31mTypeError\u001b[0m: tzinfo argument must be None or of a tzinfo subclass, not type 'list'"
     ]
    }
   ],
   "source": [
    "year = datetime.datetime.now([1])"
   ]
  },
  {
   "cell_type": "code",
   "execution_count": 45,
   "id": "56a8ab01",
   "metadata": {},
   "outputs": [],
   "source": [
    "datetime.datetime.now?"
   ]
  },
  {
   "cell_type": "code",
   "execution_count": null,
   "id": "5c98af67",
   "metadata": {},
   "outputs": [],
   "source": []
  }
 ],
 "metadata": {
  "kernelspec": {
   "display_name": "Python 3.9.13 ('base')",
   "language": "python",
   "name": "python3"
  },
  "language_info": {
   "codemirror_mode": {
    "name": "ipython",
    "version": 3
   },
   "file_extension": ".py",
   "mimetype": "text/x-python",
   "name": "python",
   "nbconvert_exporter": "python",
   "pygments_lexer": "ipython3",
   "version": "3.9.13"
  },
  "vscode": {
   "interpreter": {
    "hash": "8672916de16309b7db83262c0361a7934f546f260ea67d6e5a0c80ab5513716f"
   }
  }
 },
 "nbformat": 4,
 "nbformat_minor": 5
}
