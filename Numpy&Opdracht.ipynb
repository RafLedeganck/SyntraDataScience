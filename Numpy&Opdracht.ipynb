{
 "cells": [
  {
   "cell_type": "code",
   "execution_count": 103,
   "id": "85d50e28",
   "metadata": {},
   "outputs": [],
   "source": [
    "import numpy as np\n",
    "import matplotlib.pyplot as plt\n",
    "#plt.imshow(f)\n",
    "#plt.imshow()"
   ]
  },
  {
   "cell_type": "code",
   "execution_count": 5,
   "id": "a094c4eb",
   "metadata": {},
   "outputs": [
    {
     "name": "stdout",
     "output_type": "stream",
     "text": [
      "[5, 4, 6, 0, 3, 9, 7, 1, 2, 8]\n",
      "[-0.9589242746631385, -0.7568024953079282, -0.27941549819892586, 0.0, 0.1411200080598672, 0.4121184852417566, 0.6569865987187891, 0.8414709848078965, 0.9092974268256817, 0.9893582466233818]\n"
     ]
    }
   ],
   "source": [
    "a = list(range(10))\n",
    "fun = lambda x : np.sin(x)\n",
    "a.sort(key = fun)\n",
    "print(a)\n",
    "print([fun(x) for x in a])"
   ]
  },
  {
   "cell_type": "code",
   "execution_count": 10,
   "id": "32468ccb",
   "metadata": {},
   "outputs": [
    {
     "name": "stdout",
     "output_type": "stream",
     "text": [
      "[ 1  2  3  4  5  6  7  8  9 10 11 12 13 14 15 16 17 18 19 20]\n"
     ]
    }
   ],
   "source": [
    "a1 = np.arange(1, 21)\n",
    "print(a1)"
   ]
  },
  {
   "cell_type": "code",
   "execution_count": 74,
   "id": "6692d0d5",
   "metadata": {},
   "outputs": [
    {
     "name": "stdout",
     "output_type": "stream",
     "text": [
      "[[ 1  2  3  4  5  6  7  8  9 10]\n",
      " [11 12 13 14 15 16 17 18 19 20]]\n"
     ]
    }
   ],
   "source": [
    "print(np.reshape(a1, [2, 10]))"
   ]
  },
  {
   "cell_type": "code",
   "execution_count": 73,
   "id": "15e37bea",
   "metadata": {},
   "outputs": [
    {
     "name": "stdout",
     "output_type": "stream",
     "text": [
      "[[ 1  3  5  7  9 11 13 15 17 19]\n",
      " [ 2  4  6  8 10 12 14 16 18 20]]\n"
     ]
    }
   ],
   "source": [
    "print(np.reshape(a1, [2, 10], order = 'F'))"
   ]
  },
  {
   "cell_type": "code",
   "execution_count": 70,
   "id": "dbbac8b5",
   "metadata": {},
   "outputs": [
    {
     "name": "stdout",
     "output_type": "stream",
     "text": [
      "[[ 1  5  9 13 17]\n",
      " [ 2  6 10 14 18]\n",
      " [ 3  7 11 15 19]\n",
      " [ 4  8 12 16 20]]\n"
     ]
    }
   ],
   "source": [
    "print(np.reshape(a1, [4, 5], order = 'F'))"
   ]
  },
  {
   "cell_type": "code",
   "execution_count": 72,
   "id": "69e3f4e4",
   "metadata": {},
   "outputs": [
    {
     "name": "stdout",
     "output_type": "stream",
     "text": [
      "[[ 1  2  3  4]\n",
      " [ 5  6  7  8]\n",
      " [ 9 10 11 12]\n",
      " [13 14 15 16]\n",
      " [17 18 19 20]]\n"
     ]
    }
   ],
   "source": [
    "print(np.reshape(a1, (5,4)))"
   ]
  },
  {
   "cell_type": "code",
   "execution_count": 23,
   "id": "2b048276",
   "metadata": {},
   "outputs": [
    {
     "name": "stdout",
     "output_type": "stream",
     "text": [
      "[1 2 3 4 5 6 7 8 9]\n"
     ]
    }
   ],
   "source": [
    "b1 = np.arange(1, 10)\n",
    "b1.reshape(3,3)\n",
    "print(b1)"
   ]
  },
  {
   "cell_type": "code",
   "execution_count": 25,
   "id": "acd6e6ae",
   "metadata": {},
   "outputs": [
    {
     "name": "stdout",
     "output_type": "stream",
     "text": [
      "[[1 2 3]\n",
      " [4 5 6]\n",
      " [7 8 9]]\n"
     ]
    }
   ],
   "source": [
    "b2 = np.reshape(b1, [3,3])\n",
    "print(b2)"
   ]
  },
  {
   "cell_type": "code",
   "execution_count": 42,
   "id": "81ef7240",
   "metadata": {},
   "outputs": [
    {
     "name": "stdout",
     "output_type": "stream",
     "text": [
      "[[0.1 0.2 0.3]\n",
      " [0.4 0.6 0.7]\n",
      " [0.8 0.9 1. ]]\n"
     ]
    }
   ],
   "source": [
    "print(np.round(b2 / 9, 1))"
   ]
  },
  {
   "cell_type": "code",
   "execution_count": 52,
   "id": "5e730223",
   "metadata": {},
   "outputs": [
    {
     "name": "stdout",
     "output_type": "stream",
     "text": [
      "[[-1  0  3]\n",
      " [-4  0  6]\n",
      " [-7  0  9]]\n"
     ]
    }
   ],
   "source": [
    "print(b2 * np.reshape(np.arange(-1,2),(1,3)))"
   ]
  },
  {
   "cell_type": "code",
   "execution_count": 63,
   "id": "4a0e5af0",
   "metadata": {},
   "outputs": [
    {
     "name": "stdout",
     "output_type": "stream",
     "text": [
      "[[0.3 0.7 1. ]\n",
      " [0.7 0.8 1. ]\n",
      " [0.8 0.9 1. ]]\n"
     ]
    }
   ],
   "source": [
    "print(np.round(b2 / np.reshape(np.arange(3,12,3),(3,1)),1))"
   ]
  },
  {
   "cell_type": "code",
   "execution_count": 64,
   "id": "c685c7a1",
   "metadata": {},
   "outputs": [
    {
     "name": "stdout",
     "output_type": "stream",
     "text": [
      "[[1 2 3]\n",
      " [2 4 6]\n",
      " [3 6 9]]\n"
     ]
    }
   ],
   "source": [
    "print(np.reshape(np.arange(1,4),(1,3))*np.reshape(np.arange(1,4),(3,1)))"
   ]
  },
  {
   "cell_type": "code",
   "execution_count": 26,
   "id": "29aa3fae",
   "metadata": {},
   "outputs": [
    {
     "name": "stdout",
     "output_type": "stream",
     "text": [
      "[ 1  2  3  4  5  6  7  8  9 10 11 12 13 14 15 16]\n"
     ]
    }
   ],
   "source": [
    "c1 = np.arange(1,17)\n",
    "print(c1)"
   ]
  },
  {
   "cell_type": "code",
   "execution_count": 29,
   "id": "b8ebf2c2",
   "metadata": {},
   "outputs": [
    {
     "name": "stdout",
     "output_type": "stream",
     "text": [
      "[[ 1  2  3  4  5  6  7  8  9 10 11 12 13 14 15 16]]\n"
     ]
    }
   ],
   "source": [
    "c2 = c1.reshape(1,16)\n",
    "print(c2)"
   ]
  },
  {
   "cell_type": "code",
   "execution_count": 31,
   "id": "f5f8e7be",
   "metadata": {},
   "outputs": [
    {
     "name": "stdout",
     "output_type": "stream",
     "text": [
      "[[ 1  5  9 13]\n",
      " [ 2  6 10 14]\n",
      " [ 3  7 11 15]\n",
      " [ 4  8 12 16]]\n"
     ]
    }
   ],
   "source": [
    "c3 = c2.reshape(4,4, order = 'F')\n",
    "print(c3)"
   ]
  },
  {
   "cell_type": "code",
   "execution_count": 32,
   "id": "82bbaf8e",
   "metadata": {},
   "outputs": [
    {
     "name": "stdout",
     "output_type": "stream",
     "text": [
      "[[ 1  2  3  4]\n",
      " [ 5  6  7  8]\n",
      " [ 9 10 11 12]\n",
      " [13 14 15 16]]\n"
     ]
    }
   ],
   "source": [
    "c4 = c3.T\n",
    "print(c4)"
   ]
  },
  {
   "cell_type": "code",
   "execution_count": 49,
   "id": "04715e9f",
   "metadata": {},
   "outputs": [
    {
     "name": "stdout",
     "output_type": "stream",
     "text": [
      "[[ 1]\n",
      " [ 5]\n",
      " [ 9]\n",
      " [13]\n",
      " [ 2]\n",
      " [ 6]\n",
      " [10]\n",
      " [14]\n",
      " [ 3]\n",
      " [ 7]\n",
      " [11]\n",
      " [15]\n",
      " [ 4]\n",
      " [ 8]\n",
      " [12]\n",
      " [16]]\n"
     ]
    }
   ],
   "source": [
    "c5 = np.reshape(c4.T, (16,1))\n",
    "print(c5)"
   ]
  },
  {
   "cell_type": "code",
   "execution_count": 81,
   "id": "ba5b599c",
   "metadata": {},
   "outputs": [
    {
     "name": "stdout",
     "output_type": "stream",
     "text": [
      "[[ 1  2  3  4]\n",
      " [ 5  6  7  8]\n",
      " [ 9 10 11 12]]\n",
      "[[1 2]\n",
      " [3 4]\n",
      " [5 6]]\n"
     ]
    }
   ],
   "source": [
    "print(np.reshape(np.arange(1,13),(3,4)))\n",
    "print(np.reshape(np.arange(1,7),(3,2)))"
   ]
  },
  {
   "cell_type": "code",
   "execution_count": 83,
   "id": "1c52bc00",
   "metadata": {},
   "outputs": [
    {
     "name": "stdout",
     "output_type": "stream",
     "text": [
      "[[ 1  2  3  4  1  2]\n",
      " [ 5  6  7  8  3  4]\n",
      " [ 9 10 11 12  5  6]]\n"
     ]
    }
   ],
   "source": [
    "d1 = np.concatenate([np.reshape(np.arange(1,13),(3,4)), np.reshape(np.arange(1,7),(3,2))], axis = 1)\n",
    "print(d1)"
   ]
  },
  {
   "cell_type": "code",
   "execution_count": 85,
   "id": "3b18af3f",
   "metadata": {},
   "outputs": [
    {
     "name": "stdout",
     "output_type": "stream",
     "text": [
      "[array([[ 1,  2,  3,  4],\n",
      "       [ 5,  6,  7,  8],\n",
      "       [ 9, 10, 11, 12]]), array([[1, 2],\n",
      "       [3, 4],\n",
      "       [5, 6]])]\n"
     ]
    }
   ],
   "source": [
    "print(np.split(d1, [4], axis = 1))"
   ]
  },
  {
   "cell_type": "code",
   "execution_count": 87,
   "id": "4a045613",
   "metadata": {},
   "outputs": [
    {
     "name": "stdout",
     "output_type": "stream",
     "text": [
      "[array([[ 1,  2,  3],\n",
      "       [ 5,  6,  7],\n",
      "       [ 9, 10, 11]]), array([[ 4],\n",
      "       [ 8],\n",
      "       [12]]), array([[1, 2],\n",
      "       [3, 4],\n",
      "       [5, 6]])]\n"
     ]
    }
   ],
   "source": [
    "print(np.split(d1, [3, 4], axis = 1))"
   ]
  },
  {
   "cell_type": "code",
   "execution_count": 88,
   "id": "621e42b0",
   "metadata": {},
   "outputs": [
    {
     "name": "stdout",
     "output_type": "stream",
     "text": [
      "[array([[ 1,  2],\n",
      "       [ 5,  6],\n",
      "       [ 9, 10]]), array([[ 3,  4],\n",
      "       [ 7,  8],\n",
      "       [11, 12]]), array([[1, 2],\n",
      "       [3, 4],\n",
      "       [5, 6]])]\n"
     ]
    }
   ],
   "source": [
    "print(np.split(d1, [2, 4], axis = 1))"
   ]
  },
  {
   "cell_type": "code",
   "execution_count": 95,
   "id": "f4ba1882",
   "metadata": {},
   "outputs": [
    {
     "name": "stdout",
     "output_type": "stream",
     "text": [
      "[[ 1  2]\n",
      " [ 5  6]\n",
      " [ 9 10]]\n",
      "[[ 3  4]\n",
      " [ 7  8]\n",
      " [11 12]]\n",
      "[[1 2]\n",
      " [3 4]\n",
      " [5 6]]\n"
     ]
    }
   ],
   "source": [
    "d2, d3, d4 = np.split(d1, [2, 4], axis = 1)\n",
    "print(d2, d3, d4, sep = '\\n')"
   ]
  },
  {
   "cell_type": "code",
   "execution_count": 96,
   "id": "b8065e9e",
   "metadata": {},
   "outputs": [
    {
     "name": "stdout",
     "output_type": "stream",
     "text": [
      "[[1 2 3]\n",
      " [4 5 6]\n",
      " [7 8 9]]\n",
      "[[ 1  3  5]\n",
      " [ 7  9 11]\n",
      " [13 15 17]]\n"
     ]
    }
   ],
   "source": [
    "e1 = np.reshape(np.arange(1,10),(3,3))\n",
    "e2 = np.reshape(np.arange(1,18,2),(3,3))\n",
    "print(e1, e2, sep = '\\n')"
   ]
  },
  {
   "cell_type": "code",
   "execution_count": 97,
   "id": "af062ed1",
   "metadata": {},
   "outputs": [
    {
     "name": "stdout",
     "output_type": "stream",
     "text": [
      "[[ 1  2  3]\n",
      " [ 4  5  6]\n",
      " [ 7  8  9]\n",
      " [ 1  3  5]\n",
      " [ 7  9 11]\n",
      " [13 15 17]]\n"
     ]
    }
   ],
   "source": [
    "e3 = np.concatenate([e1, e2], axis = 0)\n",
    "print(e3)"
   ]
  },
  {
   "cell_type": "code",
   "execution_count": 100,
   "id": "287d522f",
   "metadata": {},
   "outputs": [
    {
     "name": "stdout",
     "output_type": "stream",
     "text": [
      "[[1 2 3]]\n",
      "[[4 5 6]\n",
      " [7 8 9]]\n",
      "[[ 1  3  5]\n",
      " [ 7  9 11]]\n",
      "[[13 15 17]]\n"
     ]
    }
   ],
   "source": [
    "e4, e5, e6, e7 = np.split(e3, [1,3,5], axis = 0)\n",
    "print(e4, e5, e6, e7, sep = '\\n')"
   ]
  },
  {
   "cell_type": "code",
   "execution_count": 102,
   "id": "5ab724d9",
   "metadata": {},
   "outputs": [
    {
     "name": "stdout",
     "output_type": "stream",
     "text": [
      "[[ 1  3  5  1  3  5  1  3  5  1  3  5  1  3  5]\n",
      " [ 7  9 11  7  9 11  7  9 11  7  9 11  7  9 11]\n",
      " [ 1  3  5  1  3  5  1  3  5  1  3  5  1  3  5]\n",
      " [ 7  9 11  7  9 11  7  9 11  7  9 11  7  9 11]]\n"
     ]
    }
   ],
   "source": [
    "e8 = np.tile(e6, (2,5))\n",
    "print(e8)"
   ]
  },
  {
   "cell_type": "code",
   "execution_count": null,
   "id": "39860f90",
   "metadata": {},
   "outputs": [],
   "source": [
    "f1 = "
   ]
  }
 ],
 "metadata": {
  "kernelspec": {
   "display_name": "Python 3 (ipykernel)",
   "language": "python",
   "name": "python3"
  },
  "language_info": {
   "codemirror_mode": {
    "name": "ipython",
    "version": 3
   },
   "file_extension": ".py",
   "mimetype": "text/x-python",
   "name": "python",
   "nbconvert_exporter": "python",
   "pygments_lexer": "ipython3",
   "version": "3.9.13"
  }
 },
 "nbformat": 4,
 "nbformat_minor": 5
}
