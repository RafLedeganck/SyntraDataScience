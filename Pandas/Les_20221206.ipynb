{
 "cells": [
  {
   "cell_type": "code",
   "execution_count": 32,
   "id": "60a21e56",
   "metadata": {},
   "outputs": [],
   "source": [
    "import pandas as pd\n",
    "import numpy as np"
   ]
  },
  {
   "cell_type": "code",
   "execution_count": null,
   "id": "91099416",
   "metadata": {},
   "outputs": [],
   "source": [
    "data = pd.Series([0.25, 0.5, 0.75, 1.0])\n",
    "print(data.index)\n",
    "print(data.items)"
   ]
  },
  {
   "cell_type": "code",
   "execution_count": 5,
   "id": "c9ee848b",
   "metadata": {},
   "outputs": [
    {
     "name": "stdout",
     "output_type": "stream",
     "text": [
      "0\n",
      "1\n"
     ]
    }
   ],
   "source": [
    "def fib():   \n",
    "    i = 1\n",
    "    j = 0\n",
    "    k = 1\n",
    "    yield(j)\n",
    "    yield(k)\n",
    "    while True:\n",
    "        l = j + k\n",
    "        j = k\n",
    "        k = l\n",
    "        yield(l)\n",
    "\n",
    "for n, x in enumerate(fib()):\n",
    "    print(x)\n",
    "    if n == 1:\n",
    "        break"
   ]
  },
  {
   "cell_type": "code",
   "execution_count": 16,
   "id": "3fc80cbe",
   "metadata": {},
   "outputs": [
    {
     "name": "stdout",
     "output_type": "stream",
     "text": [
      "California    38332521\n",
      "Texas         26448193\n",
      "New York      19651127\n",
      "Florida       19552860\n",
      "Illinois      12882135\n",
      "dtype: int64\n",
      "<bound method Series.sort_index of California    38332521\n",
      "Texas         26448193\n",
      "New York      19651127\n",
      "Florida       19552860\n",
      "Illinois      12882135\n",
      "dtype: int64>\n"
     ]
    },
    {
     "data": {
      "text/plain": [
       "California    38332521\n",
       "Texas         26448193\n",
       "New York      19651127\n",
       "Florida       19552860\n",
       "Illinois      12882135\n",
       "dtype: int64"
      ]
     },
     "execution_count": 16,
     "metadata": {},
     "output_type": "execute_result"
    }
   ],
   "source": [
    "dictionary = {'California':38332521, 'Texas':26448193, 'New York':19651127, 'Florida':19552860, 'Illinois':12882135}\n",
    "states_pop = pd.Series(dictionary)\n",
    "print(states_pop)\n",
    "states_pop[0:3]\n",
    "states_pop['California':'Illinois']"
   ]
  },
  {
   "cell_type": "code",
   "execution_count": 28,
   "id": "96e3b3ef",
   "metadata": {},
   "outputs": [
    {
     "name": "stdout",
     "output_type": "stream",
     "text": [
      "            Population    Area\n",
      "California    38332521  423967\n",
      "Texas         26448193  170312\n",
      "New York      19651127  149995\n",
      "Florida       19552860  141297\n",
      "Illinois      12882135  695662\n"
     ]
    }
   ],
   "source": [
    "states_area = pd.Series({'California':423967, 'Texas':170312, 'New York':149995, 'Florida':141297, 'Illinois':695662})\n",
    "states = pd.DataFrame({'Population':states_pop, 'Area':states_area})\n",
    "print(states)"
   ]
  },
  {
   "cell_type": "code",
   "execution_count": null,
   "id": "2da17f50",
   "metadata": {},
   "outputs": [],
   "source": []
  }
 ],
 "metadata": {
  "kernelspec": {
   "display_name": "Python 3 (ipykernel)",
   "language": "python",
   "name": "python3"
  },
  "language_info": {
   "codemirror_mode": {
    "name": "ipython",
    "version": 3
   },
   "file_extension": ".py",
   "mimetype": "text/x-python",
   "name": "python",
   "nbconvert_exporter": "python",
   "pygments_lexer": "ipython3",
   "version": "3.9.13"
  }
 },
 "nbformat": 4,
 "nbformat_minor": 5
}
