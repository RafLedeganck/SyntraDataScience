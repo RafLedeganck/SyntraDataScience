{
 "cells": [
  {
   "cell_type": "markdown",
   "id": "ef153808",
   "metadata": {},
   "source": [
    "# Components"
   ]
  },
  {
   "cell_type": "markdown",
   "id": "81b1cb2e",
   "metadata": {},
   "source": [
    "### Packages & libraries"
   ]
  },
  {
   "cell_type": "code",
   "execution_count": null,
   "id": "f865aba7",
   "metadata": {},
   "outputs": [],
   "source": [
    "import numpy as np\n",
    "import pandas as pd\n",
    "import os\n",
    "import datetime as dt\n",
    "import json\n",
    "import requests\n",
    "from bs4 import BeautifulSoup"
   ]
  },
  {
   "cell_type": "markdown",
   "id": "2350a5dd",
   "metadata": {},
   "source": [
    "### Global variables"
   ]
  },
  {
   "cell_type": "code",
   "execution_count": null,
   "id": "8d065f73",
   "metadata": {},
   "outputs": [],
   "source": [
    "file_flights = 'data/flights_kabfusab1b231239bdahb312421.xlsx'\n",
    "path_passengers = 'data/passengers/'\n",
    "path_output = 'output/'\n",
    "sheet_flights = 'pax_per_flight'\n",
    "sheet_pax = 'pax_data'\n",
    "sheet_log = 'warnings-errors'\n",
    "url_iata = 'https://nl.wikipedia.org/wiki/Vliegvelden_gesorteerd_naar_IATA-code'"
   ]
  },
  {
   "cell_type": "markdown",
   "id": "689fc17e",
   "metadata": {},
   "source": [
    "### Functions"
   ]
  },
  {
   "cell_type": "code",
   "execution_count": null,
   "id": "33d20d8c",
   "metadata": {},
   "outputs": [],
   "source": [
    "def save_to_excel(filename, dfs):\n",
    "    \"\"\"\n",
    "    Given a dict of dataframes, for example:\n",
    "    dfs = {'gadgets': df_gadgets, 'widgets': df_widgets}\n",
    "    \n",
    "    Function courtesy of T. Hellemans, course Data Science, Syntra, 2022-23\n",
    "    \"\"\"\n",
    "\n",
    "    writer = pd.ExcelWriter(filename, engine='xlsxwriter')\n",
    "    for sheetname, df in dfs.items():  # loop through `dict` of dataframes\n",
    "        df.to_excel(writer, sheet_name=sheetname, index=False)  # send df to writer\n",
    "        worksheet = writer.sheets[sheetname]  # pull worksheet object\n",
    "        for idx, col in enumerate(df):  # loop through all columns\n",
    "            series = df[col]\n",
    "            max_len = max((\n",
    "                series.astype(str).map(len).max(),  # len of largest item\n",
    "                len(str(series.name))  # len of column name/header\n",
    "                )) + 1  # adding a little extra space\n",
    "            worksheet.set_column(idx, idx, max_len)  # set column width\n",
    "    writer.save()\n",
    "    return\n"
   ]
  },
  {
   "cell_type": "code",
   "execution_count": null,
   "id": "9f409db2",
   "metadata": {},
   "outputs": [],
   "source": [
    "def build_datetime(date, time):\n",
    "    \"\"\"\n",
    "    Parameters:\n",
    "    - date: string with date in format DD/MM/YYYY\n",
    "    - time: string with time in format HH:MM\n",
    "    \n",
    "    Result:\n",
    "    - datetime object\n",
    "    \"\"\"\n",
    "\n",
    "    year = pd.to_datetime(date, format='%d/%m/%Y').year\n",
    "    month = pd.to_datetime(date, format='%d/%m/%Y').month\n",
    "    day = pd.to_datetime(date, format='%d/%m/%Y').day\n",
    "    hours = pd.to_datetime(time, format='%H:%M').hour\n",
    "    minutes = pd.to_datetime(time, format='%H:%M').minute\n",
    "    \n",
    "    string = str(year) + '-' + str(month) + '-' + str(day) + '-' + str(hours) + '-' + str(minutes)\n",
    "    \n",
    "    return(pd.to_datetime(string, format='%Y-%m-%d-%H-%M'))"
   ]
  },
  {
   "cell_type": "code",
   "execution_count": null,
   "id": "185dd99b",
   "metadata": {},
   "outputs": [],
   "source": [
    "def iata_codes_from_wikipedia(url):\n",
    "    \"\"\"\n",
    "    Parameters:\n",
    "    - URL to data source (nl.wikipedia.org)\n",
    "    \n",
    "    Result:\n",
    "    - dataframe with IATA-codes and location information\n",
    "    \"\"\"\n",
    "    column_headers = []\n",
    "    data = []\n",
    "    idx = []\n",
    "\n",
    "# Get data from website\n",
    "    page = requests.get(url)\n",
    "    soup = BeautifulSoup(page.content, \"html.parser\")\n",
    "    html_table = soup.find('table', attrs={'class': 'wikitable sortable'})\n",
    "    html_table_body = html_table.find('tbody') # tbody = table body\n",
    "    header = html_table_body.find_all('th')    # th = table header\n",
    "    table = html_table_body.find_all('tr')     # tr = table row\n",
    "\n",
    "# Extract column headers\n",
    "    for element in header:\n",
    "        column_headers.append(element.text.strip())   # 'strip' to remove a.o. line feed\n",
    "\n",
    "# Extract data\n",
    "    for row in table:\n",
    "        data_line = {}\n",
    "        line = row.find_all('td')              # td = table data\n",
    "        if len(line) > 0:                      # table header is also a 'tr' line but without 'td'\n",
    "            for i, element in enumerate(line):\n",
    "                if i == 0:\n",
    "                    idx.append(element.text.strip())\n",
    "                else:\n",
    "                    # Sometimes apparently there is also a text for the flag shown\n",
    "                    # --> only keep text for country\n",
    "                    data_line[column_headers[i]] = element.text.strip().split('\\xa0')[-1]   \n",
    "            data.append(data_line)\n",
    "\n",
    "# Build dataframe\n",
    "    df = pd.DataFrame(data, index = idx)\n",
    "    return(df)"
   ]
  },
  {
   "cell_type": "code",
   "execution_count": null,
   "id": "af90ee35",
   "metadata": {},
   "outputs": [],
   "source": [
    "def map_iata(airport, df):\n",
    "    \"\"\"\n",
    "    Parameters:\n",
    "    - airport: IATA airport code\n",
    "    - df: dataframe with IATA codes and country (in column 'Land')\n",
    "    \n",
    "    Result:\n",
    "    - country of airport (fixed value '#MV' in case of error)\n",
    "    \"\"\"\n",
    "    try:\n",
    "        country = df.loc[airport]['Land']\n",
    "    except Exception as error:\n",
    "        country = '#MV'\n",
    "    \n",
    "    return(country)"
   ]
  },
  {
   "cell_type": "markdown",
   "id": "494ce8ec",
   "metadata": {},
   "source": [
    "# Main program"
   ]
  },
  {
   "cell_type": "markdown",
   "id": "daf695a2",
   "metadata": {},
   "source": [
    "### Read flight data"
   ]
  },
  {
   "cell_type": "code",
   "execution_count": null,
   "id": "1a432b65",
   "metadata": {},
   "outputs": [],
   "source": [
    "df_flights = pd.read_excel(file_flights)\n",
    "df_flights['sched_datetime'] = df_flights.apply(lambda x: build_datetime(x['date'], x['time']), axis=1)\n",
    "display(df_flights.head(5))\n",
    "df_flights.dtypes"
   ]
  },
  {
   "cell_type": "markdown",
   "id": "1778f812",
   "metadata": {},
   "source": [
    "### Read passenger data & build worksheet <em>pax_data</em>"
   ]
  },
  {
   "cell_type": "code",
   "execution_count": null,
   "id": "ef25669b",
   "metadata": {},
   "outputs": [],
   "source": [
    "content = []\n",
    "log = []\n",
    "\n",
    "for index, row in df_flights.iterrows():\n",
    "    lv_code = row['code'][-5:]\n",
    "    \n",
    "    if lv_code.isdigit():\n",
    "        \n",
    "        lv_path = path_passengers + lv_code + '.json'\n",
    "    \n",
    "        try:\n",
    "            with open(lv_path, 'r') as pax_file:\n",
    "                pax_list = json.load(pax_file)\n",
    "        except Exception as error:\n",
    "            log_line = ' '.join([f\"No passenger file found for flight {row['code'][-5:]} of airline {row['airline']}\",\n",
    "                                 f\"{'arriving from' if row['A/D'] == 'A' else 'departing to'} {row['airport']}\",\n",
    "                                 f\"on {row['sched_datetime'].strftime(format='%Y/%m/%d %H:%M')}.\"])\n",
    "            log.append({'Note' : log_line})\n",
    "            \n",
    "        for pax_row in pax_list:\n",
    "            row2 = {'FlightCode' : row['code'], \\\n",
    "                    'FirstName' : pax_row['first_name'], 'LastName' : pax_row['last_name'], \\\n",
    "                    'Airline' : row['airline'], 'A/D' : row['A/D'], 'Airport' : row['airport'], \\\n",
    "                    'PRM' : pax_row['needs_assistance'], 'sched_datetime' : row['sched_datetime'] }\n",
    "            content.append(row2)\n",
    "    \n",
    "    else:\n",
    "        # Invalid flight no.\n",
    "        log_line = ' '.join([f\"Invalid flight no. for flight on line {index + 2} of airline {row['airline']}\",\n",
    "                             f\"{'arriving from' if row['A/D'] == 'A' else 'departing to'}  {row['airport']}\",\n",
    "                             f\"on {row['sched_datetime'].strftime(format='%Y/%m/%d %H:%M')}.\"])\n",
    "        log.append({'Note' : log_line})\n",
    "        \n",
    "df_pax = pd.DataFrame(content)\n",
    "df_pax['PRM'] = df_pax['PRM'].astype(bool)\n",
    "display(df_pax.head(5))\n",
    "display(log)\n",
    "df_pax.dtypes"
   ]
  },
  {
   "cell_type": "code",
   "execution_count": null,
   "id": "0cfc26a0",
   "metadata": {},
   "outputs": [],
   "source": [
    "# Reverse check: Do the flights of all passenger files exist in the main file ?\n",
    "for flightno in os.listdir(path='data/passengers/'):\n",
    "    if str('FLIGHT_' + flightno[0:5]) not in df_flights['code'].unique():\n",
    "        log_line = f\"No flight data found for flight {flightno[0:5]}.\"\n",
    "        log.append({'Note' : f\"No flight data found for flight {flightno[0:5]}.\"})\n",
    "\n",
    "display(log)"
   ]
  },
  {
   "cell_type": "markdown",
   "id": "00924b4d",
   "metadata": {},
   "source": [
    "### Build worksheet <em>pax_per_flight</em>"
   ]
  },
  {
   "cell_type": "code",
   "execution_count": null,
   "id": "3533f17c",
   "metadata": {},
   "outputs": [],
   "source": [
    "df_count = df_pax.groupby('FlightCode').agg({'PRM' : 'count'})\n",
    "df_count.rename({'PRM' : 'pax'},axis=1, inplace=True)\n",
    "\n",
    "df_prm = df_pax.groupby(['FlightCode', 'sched_datetime', 'Airline', 'A/D', 'Airport'], as_index=False).agg({'PRM' : 'sum'})\n",
    "\n",
    "df_ppf = pd.merge(df_prm, df_count, on='FlightCode')\n",
    "\n",
    "df_ppf.drop('FlightCode', axis=1, inplace=True)\n",
    "display(df_ppf.head(5))\n",
    "df_ppf.dtypes"
   ]
  },
  {
   "cell_type": "markdown",
   "id": "f0264f14",
   "metadata": {},
   "source": [
    "### Complete IATA data"
   ]
  },
  {
   "cell_type": "code",
   "execution_count": null,
   "id": "3d9975e8",
   "metadata": {},
   "outputs": [],
   "source": [
    "# Get additional IATA data\n",
    "df_iata = iata_codes_from_wikipedia(url_iata)\n",
    "display(df_iata)"
   ]
  },
  {
   "cell_type": "code",
   "execution_count": null,
   "id": "7f83a08d",
   "metadata": {},
   "outputs": [],
   "source": [
    "df_ppf['Country'] = df_ppf.apply(lambda x: map_iata(x['Airport'], df_iata), axis=1)\n",
    "display(df_ppf)"
   ]
  },
  {
   "cell_type": "markdown",
   "id": "7c111122",
   "metadata": {},
   "source": [
    "### Prep output"
   ]
  },
  {
   "cell_type": "code",
   "execution_count": null,
   "id": "4e99e668",
   "metadata": {},
   "outputs": [],
   "source": [
    "# Convert log to dataframe\n",
    "df_log = pd.DataFrame(log)\n",
    "\n",
    "# Format PRM to 'Y', 'N'\n",
    "df_pax['PRM'] = df_pax['PRM'].transform(lambda x: 'Y' if x == True else 'N')\n",
    "\n",
    "# Sort worksheets\n",
    "df_ppf.sort_values(by=['sched_datetime', 'Airline', 'A/D', 'Airport'], inplace=True, ignore_index=True)\n",
    "df_pax.sort_values(by=['sched_datetime', 'FlightCode'], inplace=True, ignore_index=True)\n",
    "\n",
    "# filename <- flight date\n",
    "file_output = path_output + df_ppf['sched_datetime'].iloc[0].strftime('%d-%m-%Y') + '.xlsx'\n",
    "\n",
    "display(df_log.head())\n",
    "display(df_ppf.head())\n",
    "display(df_pax.head())"
   ]
  },
  {
   "cell_type": "code",
   "execution_count": null,
   "id": "ea4036fc",
   "metadata": {},
   "outputs": [],
   "source": [
    "# datetime -> string\n",
    "df_ppf['ScheduledTime'] = df_ppf.apply(lambda x: x['sched_datetime'].strftime('%Y/%m/%d %H:%M'), axis=1)\n",
    "df_ppf = df_ppf[['ScheduledTime', 'Country', 'Airline', 'A/D', 'Airport', 'PRM', 'pax']]\n",
    "\n",
    "df_pax['ScheduledTime'] = df_pax.apply(lambda x: x['sched_datetime'].strftime('%Y/%m/%d %H:%M'), axis=1)\n",
    "df_pax.drop('sched_datetime', axis=1, inplace=True)"
   ]
  },
  {
   "cell_type": "code",
   "execution_count": null,
   "id": "f82ed50c",
   "metadata": {},
   "outputs": [],
   "source": [
    "display(df_log.head(5))\n",
    "display(df_ppf.head(5))\n",
    "display(df_pax.head(5))"
   ]
  },
  {
   "cell_type": "markdown",
   "id": "8d5a1e10",
   "metadata": {},
   "source": [
    "### Output"
   ]
  },
  {
   "cell_type": "code",
   "execution_count": null,
   "id": "d4e68665",
   "metadata": {},
   "outputs": [],
   "source": [
    "# Generate Excel file\n",
    "workbook = {sheet_log : df_log, sheet_flights : df_ppf, sheet_pax : df_pax}\n",
    "save_to_excel(file_output, workbook)"
   ]
  },
  {
   "cell_type": "code",
   "execution_count": null,
   "id": "2b78c0b6",
   "metadata": {},
   "outputs": [],
   "source": []
  }
 ],
 "metadata": {
  "kernelspec": {
   "display_name": "Python 3 (ipykernel)",
   "language": "python",
   "name": "python3"
  },
  "language_info": {
   "codemirror_mode": {
    "name": "ipython",
    "version": 3
   },
   "file_extension": ".py",
   "mimetype": "text/x-python",
   "name": "python",
   "nbconvert_exporter": "python",
   "pygments_lexer": "ipython3",
   "version": "3.9.13"
  }
 },
 "nbformat": 4,
 "nbformat_minor": 5
}
