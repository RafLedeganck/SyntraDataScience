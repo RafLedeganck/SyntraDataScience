{
 "cells": [
  {
   "cell_type": "code",
   "execution_count": null,
   "id": "62f4bc00",
   "metadata": {},
   "outputs": [],
   "source": [
    "import requests\n",
    "from bs4 import BeautifulSoup\n",
    "import pandas as pd"
   ]
  },
  {
   "cell_type": "code",
   "execution_count": null,
   "id": "7b83864d",
   "metadata": {},
   "outputs": [],
   "source": [
    "#url = 'https://www.nationsonline.org/oneworld/IATA_Codes/airport_code_list.htm'\n",
    "#url = 'https://www.iata.org/en/publications/directories/code-search/?airport.search=AMS'\n",
    "url = 'https://nl.wikipedia.org/wiki/Vliegvelden_gesorteerd_naar_IATA-code'\n",
    "page = requests.get(url)\n",
    "\n",
    "soup = BeautifulSoup(page.content, \"html.parser\")\n",
    "display(soup)"
   ]
  },
  {
   "cell_type": "code",
   "execution_count": null,
   "id": "28b06faf",
   "metadata": {},
   "outputs": [],
   "source": [
    "column_headers = []\n",
    "data = []\n",
    "idx = []\n",
    "\n",
    "html_table = soup.find('table', attrs={'class': 'wikitable sortable'})\n",
    "html_table_body = html_table.find('tbody') # tbody = table body\n",
    "header = html_table_body.find_all('th')    # th = table header\n",
    "table = html_table_body.find_all('tr')     # tr = table row\n",
    "\n",
    "# Extract column headers\n",
    "for element in header:\n",
    "    column_headers.append(element.text.strip())\n",
    "\n",
    "# Extract data\n",
    "for row in table:\n",
    "    data_line = {}\n",
    "    line = row.find_all('td')              # td = table data\n",
    "    if len(line) > 0:                      # table header is also a 'tr' line but without 'td'\n",
    "        for i, element in enumerate(line):\n",
    "            if i == 0:\n",
    "                idx.append(element.text.strip())\n",
    "                if element.text.strip() == \"LGW\":\n",
    "                    printline = 'Y'\n",
    "                    display(element.text.strip())\n",
    "                elif element.text.strip() == 'AMD':\n",
    "                    printline = 'Y'\n",
    "                    display(element.text.strip())\n",
    "                else:\n",
    "                    printline = 'N'\n",
    "            else:\n",
    "                data_line[column_headers[i]] = element.text.strip()\n",
    "                if printline == 'Y':\n",
    "                    display(element.text.strip().split('\\xa0')[-1])\n",
    "        data.append(data_line)\n",
    "\n",
    "# Build dataframe\n",
    "#df = pd.DataFrame(data, index = idx)\n",
    "#display(df)"
   ]
  },
  {
   "cell_type": "code",
   "execution_count": null,
   "id": "4e4a6757",
   "metadata": {},
   "outputs": [],
   "source": [
    "display(df.loc['AMD'])"
   ]
  },
  {
   "cell_type": "code",
   "execution_count": null,
   "id": "d0342628",
   "metadata": {},
   "outputs": [],
   "source": []
  }
 ],
 "metadata": {
  "kernelspec": {
   "display_name": "Python 3 (ipykernel)",
   "language": "python",
   "name": "python3"
  },
  "language_info": {
   "codemirror_mode": {
    "name": "ipython",
    "version": 3
   },
   "file_extension": ".py",
   "mimetype": "text/x-python",
   "name": "python",
   "nbconvert_exporter": "python",
   "pygments_lexer": "ipython3",
   "version": "3.9.13"
  }
 },
 "nbformat": 4,
 "nbformat_minor": 5
}
