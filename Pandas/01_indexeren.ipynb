{
 "cells": [
  {
   "cell_type": "code",
   "execution_count": 3,
   "metadata": {},
   "outputs": [
    {
     "data": {
      "text/html": [
       "<div>\n",
       "<style scoped>\n",
       "    .dataframe tbody tr th:only-of-type {\n",
       "        vertical-align: middle;\n",
       "    }\n",
       "\n",
       "    .dataframe tbody tr th {\n",
       "        vertical-align: top;\n",
       "    }\n",
       "\n",
       "    .dataframe thead th {\n",
       "        text-align: right;\n",
       "    }\n",
       "</style>\n",
       "<table border=\"1\" class=\"dataframe\">\n",
       "  <thead>\n",
       "    <tr style=\"text-align: right;\">\n",
       "      <th></th>\n",
       "      <th>park_name</th>\n",
       "      <th>state</th>\n",
       "      <th>acres</th>\n",
       "      <th>latitude</th>\n",
       "      <th>longitude</th>\n",
       "    </tr>\n",
       "    <tr>\n",
       "      <th>Park Code</th>\n",
       "      <th></th>\n",
       "      <th></th>\n",
       "      <th></th>\n",
       "      <th></th>\n",
       "      <th></th>\n",
       "    </tr>\n",
       "  </thead>\n",
       "  <tbody>\n",
       "    <tr>\n",
       "      <th>ACAD</th>\n",
       "      <td>Acadia National Park</td>\n",
       "      <td>ME</td>\n",
       "      <td>47390</td>\n",
       "      <td>44.35</td>\n",
       "      <td>-68.21</td>\n",
       "    </tr>\n",
       "    <tr>\n",
       "      <th>ARCH</th>\n",
       "      <td>Arches National Park</td>\n",
       "      <td>UT</td>\n",
       "      <td>76519</td>\n",
       "      <td>38.68</td>\n",
       "      <td>-109.57</td>\n",
       "    </tr>\n",
       "    <tr>\n",
       "      <th>BADL</th>\n",
       "      <td>Badlands National Park</td>\n",
       "      <td>SD</td>\n",
       "      <td>242756</td>\n",
       "      <td>43.75</td>\n",
       "      <td>-102.50</td>\n",
       "    </tr>\n",
       "    <tr>\n",
       "      <th>BIBE</th>\n",
       "      <td>Big Bend National Park</td>\n",
       "      <td>TX</td>\n",
       "      <td>801163</td>\n",
       "      <td>29.25</td>\n",
       "      <td>-103.25</td>\n",
       "    </tr>\n",
       "    <tr>\n",
       "      <th>BISC</th>\n",
       "      <td>Biscayne National Park</td>\n",
       "      <td>FL</td>\n",
       "      <td>172924</td>\n",
       "      <td>25.65</td>\n",
       "      <td>-80.08</td>\n",
       "    </tr>\n",
       "  </tbody>\n",
       "</table>\n",
       "</div>"
      ],
      "text/plain": [
       "                        park_name state   acres  latitude  longitude\n",
       "Park Code                                                           \n",
       "ACAD         Acadia National Park    ME   47390     44.35     -68.21\n",
       "ARCH         Arches National Park    UT   76519     38.68    -109.57\n",
       "BADL       Badlands National Park    SD  242756     43.75    -102.50\n",
       "BIBE       Big Bend National Park    TX  801163     29.25    -103.25\n",
       "BISC       Biscayne National Park    FL  172924     25.65     -80.08"
      ]
     },
     "metadata": {},
     "output_type": "display_data"
    }
   ],
   "source": [
    "import pandas as pd\n",
    "df = pd.read_csv('parks.csv', index_col=['Park Code'])\n",
    "df.columns = [col.replace(' ', '_').lower() for col in df.columns]\n",
    "display(df.head())"
   ]
  },
  {
   "cell_type": "markdown",
   "metadata": {},
   "source": [
    "Toon de eerste 5 rijen van de dataframe"
   ]
  },
  {
   "cell_type": "code",
   "execution_count": 8,
   "metadata": {},
   "outputs": [
    {
     "data": {
      "text/html": [
       "<div>\n",
       "<style scoped>\n",
       "    .dataframe tbody tr th:only-of-type {\n",
       "        vertical-align: middle;\n",
       "    }\n",
       "\n",
       "    .dataframe tbody tr th {\n",
       "        vertical-align: top;\n",
       "    }\n",
       "\n",
       "    .dataframe thead th {\n",
       "        text-align: right;\n",
       "    }\n",
       "</style>\n",
       "<table border=\"1\" class=\"dataframe\">\n",
       "  <thead>\n",
       "    <tr style=\"text-align: right;\">\n",
       "      <th></th>\n",
       "      <th>park_name</th>\n",
       "      <th>state</th>\n",
       "      <th>acres</th>\n",
       "      <th>latitude</th>\n",
       "      <th>longitude</th>\n",
       "    </tr>\n",
       "    <tr>\n",
       "      <th>Park Code</th>\n",
       "      <th></th>\n",
       "      <th></th>\n",
       "      <th></th>\n",
       "      <th></th>\n",
       "      <th></th>\n",
       "    </tr>\n",
       "  </thead>\n",
       "  <tbody>\n",
       "    <tr>\n",
       "      <th>ACAD</th>\n",
       "      <td>Acadia National Park</td>\n",
       "      <td>ME</td>\n",
       "      <td>47390</td>\n",
       "      <td>44.35</td>\n",
       "      <td>-68.21</td>\n",
       "    </tr>\n",
       "    <tr>\n",
       "      <th>ARCH</th>\n",
       "      <td>Arches National Park</td>\n",
       "      <td>UT</td>\n",
       "      <td>76519</td>\n",
       "      <td>38.68</td>\n",
       "      <td>-109.57</td>\n",
       "    </tr>\n",
       "    <tr>\n",
       "      <th>BADL</th>\n",
       "      <td>Badlands National Park</td>\n",
       "      <td>SD</td>\n",
       "      <td>242756</td>\n",
       "      <td>43.75</td>\n",
       "      <td>-102.50</td>\n",
       "    </tr>\n",
       "    <tr>\n",
       "      <th>BIBE</th>\n",
       "      <td>Big Bend National Park</td>\n",
       "      <td>TX</td>\n",
       "      <td>801163</td>\n",
       "      <td>29.25</td>\n",
       "      <td>-103.25</td>\n",
       "    </tr>\n",
       "    <tr>\n",
       "      <th>BISC</th>\n",
       "      <td>Biscayne National Park</td>\n",
       "      <td>FL</td>\n",
       "      <td>172924</td>\n",
       "      <td>25.65</td>\n",
       "      <td>-80.08</td>\n",
       "    </tr>\n",
       "  </tbody>\n",
       "</table>\n",
       "</div>"
      ],
      "text/plain": [
       "                        park_name state   acres  latitude  longitude\n",
       "Park Code                                                           \n",
       "ACAD         Acadia National Park    ME   47390     44.35     -68.21\n",
       "ARCH         Arches National Park    UT   76519     38.68    -109.57\n",
       "BADL       Badlands National Park    SD  242756     43.75    -102.50\n",
       "BIBE       Big Bend National Park    TX  801163     29.25    -103.25\n",
       "BISC       Biscayne National Park    FL  172924     25.65     -80.08"
      ]
     },
     "execution_count": 8,
     "metadata": {},
     "output_type": "execute_result"
    }
   ],
   "source": [
    "df.iloc[:5]"
   ]
  },
  {
   "cell_type": "markdown",
   "metadata": {},
   "source": [
    "Toon rij 15 tem 20 van de dataframe"
   ]
  },
  {
   "cell_type": "code",
   "execution_count": 9,
   "metadata": {},
   "outputs": [
    {
     "data": {
      "text/html": [
       "<div>\n",
       "<style scoped>\n",
       "    .dataframe tbody tr th:only-of-type {\n",
       "        vertical-align: middle;\n",
       "    }\n",
       "\n",
       "    .dataframe tbody tr th {\n",
       "        vertical-align: top;\n",
       "    }\n",
       "\n",
       "    .dataframe thead th {\n",
       "        text-align: right;\n",
       "    }\n",
       "</style>\n",
       "<table border=\"1\" class=\"dataframe\">\n",
       "  <thead>\n",
       "    <tr style=\"text-align: right;\">\n",
       "      <th></th>\n",
       "      <th>park_name</th>\n",
       "      <th>state</th>\n",
       "      <th>acres</th>\n",
       "      <th>latitude</th>\n",
       "      <th>longitude</th>\n",
       "    </tr>\n",
       "    <tr>\n",
       "      <th>Park Code</th>\n",
       "      <th></th>\n",
       "      <th></th>\n",
       "      <th></th>\n",
       "      <th></th>\n",
       "      <th></th>\n",
       "    </tr>\n",
       "  </thead>\n",
       "  <tbody>\n",
       "    <tr>\n",
       "      <th>DEVA</th>\n",
       "      <td>Death Valley National Park</td>\n",
       "      <td>CA, NV</td>\n",
       "      <td>4740912</td>\n",
       "      <td>36.24</td>\n",
       "      <td>-116.82</td>\n",
       "    </tr>\n",
       "    <tr>\n",
       "      <th>DRTO</th>\n",
       "      <td>Dry Tortugas National Park</td>\n",
       "      <td>FL</td>\n",
       "      <td>64701</td>\n",
       "      <td>24.63</td>\n",
       "      <td>-82.87</td>\n",
       "    </tr>\n",
       "    <tr>\n",
       "      <th>EVER</th>\n",
       "      <td>Everglades National Park</td>\n",
       "      <td>FL</td>\n",
       "      <td>1508538</td>\n",
       "      <td>25.32</td>\n",
       "      <td>-80.93</td>\n",
       "    </tr>\n",
       "    <tr>\n",
       "      <th>GAAR</th>\n",
       "      <td>Gates Of The Arctic National Park and Preserve</td>\n",
       "      <td>AK</td>\n",
       "      <td>7523898</td>\n",
       "      <td>67.78</td>\n",
       "      <td>-153.30</td>\n",
       "    </tr>\n",
       "    <tr>\n",
       "      <th>GLAC</th>\n",
       "      <td>Glacier National Park</td>\n",
       "      <td>MT</td>\n",
       "      <td>1013572</td>\n",
       "      <td>48.80</td>\n",
       "      <td>-114.00</td>\n",
       "    </tr>\n",
       "  </tbody>\n",
       "</table>\n",
       "</div>"
      ],
      "text/plain": [
       "                                                park_name   state    acres  \\\n",
       "Park Code                                                                    \n",
       "DEVA                           Death Valley National Park  CA, NV  4740912   \n",
       "DRTO                           Dry Tortugas National Park      FL    64701   \n",
       "EVER                             Everglades National Park      FL  1508538   \n",
       "GAAR       Gates Of The Arctic National Park and Preserve      AK  7523898   \n",
       "GLAC                                Glacier National Park      MT  1013572   \n",
       "\n",
       "           latitude  longitude  \n",
       "Park Code                       \n",
       "DEVA          36.24    -116.82  \n",
       "DRTO          24.63     -82.87  \n",
       "EVER          25.32     -80.93  \n",
       "GAAR          67.78    -153.30  \n",
       "GLAC          48.80    -114.00  "
      ]
     },
     "execution_count": 9,
     "metadata": {},
     "output_type": "execute_result"
    }
   ],
   "source": [
    "df.iloc[15:20]\n",
    "# moet tot 21 zijn !"
   ]
  },
  {
   "cell_type": "markdown",
   "metadata": {},
   "source": [
    "Wat is de naam van het park met code GRSA?"
   ]
  },
  {
   "cell_type": "code",
   "execution_count": 11,
   "metadata": {},
   "outputs": [
    {
     "data": {
      "text/plain": [
       "'Great Sand Dunes National Park and Preserve'"
      ]
     },
     "execution_count": 11,
     "metadata": {},
     "output_type": "execute_result"
    }
   ],
   "source": [
    "df.loc['GRSA', 'park_name']"
   ]
  },
  {
   "cell_type": "markdown",
   "metadata": {},
   "source": [
    "Hoeveel aren hebben de parken GRSA, YELL en BADL samen?"
   ]
  },
  {
   "cell_type": "code",
   "execution_count": 14,
   "metadata": {},
   "outputs": [
    {
     "data": {
      "text/plain": [
       "2505531"
      ]
     },
     "execution_count": 14,
     "metadata": {},
     "output_type": "execute_result"
    }
   ],
   "source": [
    "area = df.loc[['GRSA','YELL','BADL'],'acres'].sum()\n",
    "area"
   ]
  },
  {
   "cell_type": "markdown",
   "metadata": {},
   "source": [
    "Hoeveel parken zijn kleiner dan 10 000 are?"
   ]
  },
  {
   "cell_type": "code",
   "execution_count": 23,
   "metadata": {},
   "outputs": [
    {
     "name": "stdout",
     "output_type": "stream",
     "text": [
      "1\n"
     ]
    }
   ],
   "source": [
    "print(len(df.loc[df.loc[:,'acres']<10000]))\n",
    "# true = 1 dus kan gewoon geteld worden\n",
    "# count --> telt aantal waarden (die niet NaN zijn)"
   ]
  },
  {
   "cell_type": "markdown",
   "metadata": {},
   "source": [
    "Liggen er meer parken ten weste of ten ooste van de mississippi (je mag voor de eenvoud veronderstellen dat de mississippi van noord naar zuid loopt over de longitude -90)."
   ]
  },
  {
   "cell_type": "code",
   "execution_count": 32,
   "metadata": {},
   "outputs": [
    {
     "name": "stdout",
     "output_type": "stream",
     "text": [
      "46 (West) > 10 (East)\n"
     ]
    }
   ],
   "source": [
    "west = len(df.loc[df.loc[:,'longitude']<(-90)])\n",
    "east = len(df.loc[df.loc[:,'longitude']>(-90)])\n",
    "if west > east:\n",
    "    print(west, '(West)', '>', east, '(East)')\n",
    "else:\n",
    "    print(east, '(East)', '<=', west, '(West)')"
   ]
  },
  {
   "cell_type": "markdown",
   "metadata": {},
   "source": [
    "### Advanced\n",
    "Geef het kleinste park dat groter is dan Yellowstone"
   ]
  },
  {
   "cell_type": "code",
   "execution_count": 47,
   "metadata": {},
   "outputs": [
    {
     "name": "stdout",
     "output_type": "stream",
     "text": [
      "2219791\n",
      "                                                park_name   state    acres  \\\n",
      "Park Code                                                                    \n",
      "DENA                    Denali National Park and Preserve      AK  3372402   \n",
      "DEVA                           Death Valley National Park  CA, NV  4740912   \n",
      "GAAR       Gates Of The Arctic National Park and Preserve      AK  7523898   \n",
      "GLBA               Glacier Bay National Park and Preserve      AK  3224840   \n",
      "KATM                    Katmai National Park and Preserve      AK  3674530   \n",
      "LACL                Lake Clark National Park and Preserve      AK  2619733   \n",
      "WRST       Wrangell - St Elias National Park and Preserve      AK  8323148   \n",
      "\n",
      "           latitude  longitude  \n",
      "Park Code                       \n",
      "DENA          63.33    -150.50  \n",
      "DEVA          36.24    -116.82  \n",
      "GAAR          67.78    -153.30  \n",
      "GLBA          58.50    -137.00  \n",
      "KATM          58.50    -155.00  \n",
      "LACL          60.97    -153.42  \n",
      "WRST          61.00    -142.00  \n",
      "LACL\n"
     ]
    }
   ],
   "source": [
    "area_yell = df.loc['YELL', 'acres']\n",
    "print(area_yell)\n",
    "df_greater = df.loc[df.loc[:,'acres']>area_yell]\n",
    "print(df_greater)\n",
    "print(df_greater.loc[:,'acres'].idxmin())\n"
   ]
  },
  {
   "cell_type": "markdown",
   "metadata": {},
   "source": [
    "Wat is de naam van het grootste park buiten Alaska"
   ]
  },
  {
   "cell_type": "code",
   "execution_count": 48,
   "metadata": {},
   "outputs": [],
   "source": []
  },
  {
   "cell_type": "markdown",
   "metadata": {},
   "source": [
    "Hoeveel parken liggen op staatsgrenzen (zie bvb park YELL als voorbeeld)."
   ]
  },
  {
   "cell_type": "code",
   "execution_count": null,
   "metadata": {},
   "outputs": [],
   "source": []
  },
  {
   "cell_type": "markdown",
   "metadata": {},
   "source": [
    "Hoeveel aren bestrijken alle parken in de staten ID, WY en MT samen?"
   ]
  },
  {
   "cell_type": "code",
   "execution_count": null,
   "metadata": {},
   "outputs": [],
   "source": []
  }
 ],
 "metadata": {
  "kernelspec": {
   "display_name": "Python 3 (ipykernel)",
   "language": "python",
   "name": "python3"
  },
  "language_info": {
   "codemirror_mode": {
    "name": "ipython",
    "version": 3
   },
   "file_extension": ".py",
   "mimetype": "text/x-python",
   "name": "python",
   "nbconvert_exporter": "python",
   "pygments_lexer": "ipython3",
   "version": "3.9.13"
  },
  "vscode": {
   "interpreter": {
    "hash": "66c743e5823a8aeacdc94c110aa4f56cb861d432d6559ee62442e1adee0c0566"
   }
  }
 },
 "nbformat": 4,
 "nbformat_minor": 2
}
